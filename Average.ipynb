{
 "cells": [
  {
   "cell_type": "code",
   "execution_count": 1,
   "id": "5205881f-39fa-4530-b8b7-e605c37d269a",
   "metadata": {},
   "outputs": [],
   "source": [
    "import numpy as np\n",
    "import pandas as pd\n",
    "from itertools import combinations"
   ]
  },
  {
   "cell_type": "code",
   "execution_count": 4,
   "id": "731be68a-5152-42ff-977a-021c4cea22c2",
   "metadata": {},
   "outputs": [],
   "source": [
    "data = pd.ExcelFile(\"Daten/04_AlleBoxen_FIFA.xlsx\")\n",
    "sheet = pd.read_excel(data)"
   ]
  },
  {
   "cell_type": "code",
   "execution_count": 14,
   "id": "7d9f9d28-9d44-4196-9346-5e641140e3ab",
   "metadata": {},
   "outputs": [
    {
     "name": "stdout",
     "output_type": "stream",
     "text": [
      "[(0,), (1,), (2,), (3,), (4,), (5,), (6,)]\n"
     ]
    }
   ],
   "source": [
    "c = []\n",
    "for variation in combinations([0,1,2,3,4,5,6], 1):\n",
    "    c.append(variation)\n",
    "print(c)"
   ]
  },
  {
   "cell_type": "code",
   "execution_count": 15,
   "id": "c2f6147c-8b64-485d-8944-1355e3a6acb3",
   "metadata": {},
   "outputs": [
    {
     "name": "stdout",
     "output_type": "stream",
     "text": [
      "67.95309168443497\n"
     ]
    }
   ],
   "source": [
    "PR = []\n",
    "for i in c:\n",
    "    sheet_groups = sheet[sheet['Gruppe'].isin(i)]\n",
    "    y = len(sheet_groups['Karten ID'].drop_duplicates())\n",
    "    pr = y*100/670\n",
    "    PR.append(pr)\n",
    "print(sum(PR)/len(PR))  "
   ]
  }
 ],
 "metadata": {
  "kernelspec": {
   "display_name": "Python 3",
   "language": "python",
   "name": "python3"
  },
  "language_info": {
   "codemirror_mode": {
    "name": "ipython",
    "version": 3
   },
   "file_extension": ".py",
   "mimetype": "text/x-python",
   "name": "python",
   "nbconvert_exporter": "python",
   "pygments_lexer": "ipython3",
   "version": "3.8.8"
  }
 },
 "nbformat": 4,
 "nbformat_minor": 5
}
